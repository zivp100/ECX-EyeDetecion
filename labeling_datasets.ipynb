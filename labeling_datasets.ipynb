{
 "cells": [
  {
   "cell_type": "markdown",
   "id": "2253dc24-ea64-4f52-9fae-bc7af16d0eca",
   "metadata": {},
   "source": [
    "### Initiate LabelMe"
   ]
  },
  {
   "cell_type": "code",
   "execution_count": 1,
   "id": "a74aad65-f8dd-4089-88b1-5eacb2f846de",
   "metadata": {
    "collapsed": true,
    "jupyter": {
     "outputs_hidden": true
    },
    "tags": []
   },
   "outputs": [
    {
     "name": "stdout",
     "output_type": "stream",
     "text": [
      "Requirement already satisfied: labelme in /Users/sarvzz/miniconda3/lib/python3.11/site-packages (5.3.0)\n",
      "Requirement already satisfied: gdown in /Users/sarvzz/miniconda3/lib/python3.11/site-packages (from labelme) (4.7.1)\n",
      "Requirement already satisfied: imgviz>=0.11 in /Users/sarvzz/miniconda3/lib/python3.11/site-packages (from labelme) (1.7.3)\n",
      "Requirement already satisfied: matplotlib in /Users/sarvzz/miniconda3/lib/python3.11/site-packages (from labelme) (3.7.2)\n",
      "Requirement already satisfied: natsort>=7.1.0 in /Users/sarvzz/miniconda3/lib/python3.11/site-packages (from labelme) (8.4.0)\n",
      "Requirement already satisfied: numpy in /Users/sarvzz/miniconda3/lib/python3.11/site-packages (from labelme) (1.24.2)\n",
      "Requirement already satisfied: onnxruntime>=1.14.1 in /Users/sarvzz/miniconda3/lib/python3.11/site-packages (from labelme) (1.15.1)\n",
      "Requirement already satisfied: Pillow>=2.8 in /Users/sarvzz/miniconda3/lib/python3.11/site-packages (from labelme) (9.4.0)\n",
      "Requirement already satisfied: PyYAML in /Users/sarvzz/miniconda3/lib/python3.11/site-packages (from labelme) (6.0)\n",
      "Requirement already satisfied: qtpy!=1.11.2 in /Users/sarvzz/miniconda3/lib/python3.11/site-packages (from labelme) (2.3.1)\n",
      "Requirement already satisfied: scikit-image in /Users/sarvzz/miniconda3/lib/python3.11/site-packages (from labelme) (0.21.0)\n",
      "Requirement already satisfied: termcolor in /Users/sarvzz/miniconda3/lib/python3.11/site-packages (from labelme) (2.3.0)\n",
      "Requirement already satisfied: PyQt5!=5.15.3,!=5.15.4 in /Users/sarvzz/miniconda3/lib/python3.11/site-packages (from labelme) (5.15.9)\n",
      "Requirement already satisfied: coloredlogs in /Users/sarvzz/miniconda3/lib/python3.11/site-packages (from onnxruntime>=1.14.1->labelme) (15.0.1)\n",
      "Requirement already satisfied: flatbuffers in /Users/sarvzz/miniconda3/lib/python3.11/site-packages (from onnxruntime>=1.14.1->labelme) (23.5.26)\n",
      "Requirement already satisfied: packaging in /Users/sarvzz/miniconda3/lib/python3.11/site-packages (from onnxruntime>=1.14.1->labelme) (23.0)\n",
      "Requirement already satisfied: protobuf in /Users/sarvzz/miniconda3/lib/python3.11/site-packages (from onnxruntime>=1.14.1->labelme) (4.23.4)\n",
      "Requirement already satisfied: sympy in /Users/sarvzz/miniconda3/lib/python3.11/site-packages (from onnxruntime>=1.14.1->labelme) (1.12)\n",
      "Requirement already satisfied: PyQt5-sip<13,>=12.11 in /Users/sarvzz/miniconda3/lib/python3.11/site-packages (from PyQt5!=5.15.3,!=5.15.4->labelme) (12.12.2)\n",
      "Requirement already satisfied: PyQt5-Qt5>=5.15.2 in /Users/sarvzz/miniconda3/lib/python3.11/site-packages (from PyQt5!=5.15.3,!=5.15.4->labelme) (5.15.2)\n",
      "Requirement already satisfied: filelock in /Users/sarvzz/miniconda3/lib/python3.11/site-packages (from gdown->labelme) (3.12.2)\n",
      "Requirement already satisfied: requests[socks] in /Users/sarvzz/miniconda3/lib/python3.11/site-packages (from gdown->labelme) (2.29.0)\n",
      "Requirement already satisfied: six in /Users/sarvzz/miniconda3/lib/python3.11/site-packages (from gdown->labelme) (1.16.0)\n",
      "Requirement already satisfied: tqdm in /Users/sarvzz/miniconda3/lib/python3.11/site-packages (from gdown->labelme) (4.65.0)\n",
      "Requirement already satisfied: beautifulsoup4 in /Users/sarvzz/miniconda3/lib/python3.11/site-packages (from gdown->labelme) (4.12.2)\n",
      "Requirement already satisfied: contourpy>=1.0.1 in /Users/sarvzz/miniconda3/lib/python3.11/site-packages (from matplotlib->labelme) (1.1.0)\n",
      "Requirement already satisfied: cycler>=0.10 in /Users/sarvzz/miniconda3/lib/python3.11/site-packages (from matplotlib->labelme) (0.11.0)\n",
      "Requirement already satisfied: fonttools>=4.22.0 in /Users/sarvzz/miniconda3/lib/python3.11/site-packages (from matplotlib->labelme) (4.42.0)\n",
      "Requirement already satisfied: kiwisolver>=1.0.1 in /Users/sarvzz/miniconda3/lib/python3.11/site-packages (from matplotlib->labelme) (1.4.4)\n",
      "Requirement already satisfied: pyparsing<3.1,>=2.3.1 in /Users/sarvzz/miniconda3/lib/python3.11/site-packages (from matplotlib->labelme) (3.0.9)\n",
      "Requirement already satisfied: python-dateutil>=2.7 in /Users/sarvzz/miniconda3/lib/python3.11/site-packages (from matplotlib->labelme) (2.8.2)\n",
      "Requirement already satisfied: scipy>=1.8 in /Users/sarvzz/miniconda3/lib/python3.11/site-packages (from scikit-image->labelme) (1.11.1)\n",
      "Requirement already satisfied: networkx>=2.8 in /Users/sarvzz/miniconda3/lib/python3.11/site-packages (from scikit-image->labelme) (3.1)\n",
      "Requirement already satisfied: imageio>=2.27 in /Users/sarvzz/miniconda3/lib/python3.11/site-packages (from scikit-image->labelme) (2.31.1)\n",
      "Requirement already satisfied: tifffile>=2022.8.12 in /Users/sarvzz/miniconda3/lib/python3.11/site-packages (from scikit-image->labelme) (2023.7.18)\n",
      "Requirement already satisfied: PyWavelets>=1.1.1 in /Users/sarvzz/miniconda3/lib/python3.11/site-packages (from scikit-image->labelme) (1.4.1)\n",
      "Requirement already satisfied: lazy_loader>=0.2 in /Users/sarvzz/miniconda3/lib/python3.11/site-packages (from scikit-image->labelme) (0.3)\n",
      "Requirement already satisfied: soupsieve>1.2 in /Users/sarvzz/miniconda3/lib/python3.11/site-packages (from beautifulsoup4->gdown->labelme) (2.3.2.post1)\n",
      "Requirement already satisfied: humanfriendly>=9.1 in /Users/sarvzz/miniconda3/lib/python3.11/site-packages (from coloredlogs->onnxruntime>=1.14.1->labelme) (10.0)\n",
      "Requirement already satisfied: charset-normalizer<4,>=2 in /Users/sarvzz/miniconda3/lib/python3.11/site-packages (from requests[socks]->gdown->labelme) (2.0.4)\n",
      "Requirement already satisfied: idna<4,>=2.5 in /Users/sarvzz/miniconda3/lib/python3.11/site-packages (from requests[socks]->gdown->labelme) (3.4)\n",
      "Requirement already satisfied: urllib3<1.27,>=1.21.1 in /Users/sarvzz/miniconda3/lib/python3.11/site-packages (from requests[socks]->gdown->labelme) (1.26.16)\n",
      "Requirement already satisfied: certifi>=2017.4.17 in /Users/sarvzz/miniconda3/lib/python3.11/site-packages (from requests[socks]->gdown->labelme) (2023.7.22)\n",
      "Requirement already satisfied: PySocks!=1.5.7,>=1.5.6 in /Users/sarvzz/miniconda3/lib/python3.11/site-packages (from requests[socks]->gdown->labelme) (1.7.1)\n",
      "Requirement already satisfied: mpmath>=0.19 in /Users/sarvzz/miniconda3/lib/python3.11/site-packages (from sympy->onnxruntime>=1.14.1->labelme) (1.3.0)\n",
      "Note: you may need to restart the kernel to use updated packages.\n"
     ]
    }
   ],
   "source": [
    "pip install labelme"
   ]
  },
  {
   "cell_type": "code",
   "execution_count": 4,
   "id": "e01316cb-94c1-4342-ac5b-096690b84a75",
   "metadata": {
    "tags": []
   },
   "outputs": [
    {
     "name": "stdout",
     "output_type": "stream",
     "text": [
      "[\u001b[1m\u001b[97mINFO   \u001b[0m] \u001b[36m__init__\u001b[0m:\u001b[36mget_config\u001b[0m:\u001b[36m70\u001b[0m - \u001b[1m\u001b[97mLoading config file from: /Users/sarvzz/.labelmerc\u001b[0m\n"
     ]
    }
   ],
   "source": [
    "!labelme"
   ]
  },
  {
   "cell_type": "markdown",
   "id": "f7dd29f9-04c7-40ec-bfe2-f12ed8ef011f",
   "metadata": {},
   "source": [
    "### Change 'imagePath' in .json file to it's file name"
   ]
  },
  {
   "cell_type": "code",
   "execution_count": 5,
   "id": "05294f68-689a-49fe-bc86-6dc274b6d9a2",
   "metadata": {},
   "outputs": [
    {
     "name": "stdout",
     "output_type": "stream",
     "text": [
      "/Users/sarvzz/Desktop\n"
     ]
    }
   ],
   "source": [
    "cd ../"
   ]
  },
  {
   "cell_type": "code",
   "execution_count": 7,
   "id": "72f4da52-bdcd-4721-9514-c2f65bb07d7e",
   "metadata": {},
   "outputs": [],
   "source": [
    "import os\n",
    "import json\n",
    "\n",
    "# Labelme directory\n",
    "json_dir = 'tri-labels'\n",
    "\n",
    "# Iterate through all json files\n",
    "for json_file in os.listdir(json_dir):\n",
    "    if json_file.endswith('.json'):\n",
    "\n",
    "        # Read the json file\n",
    "        with open(os.path.join(json_dir, json_file), 'r') as f:\n",
    "            labelme_data = json.load(f)\n",
    "\n",
    "        # Extract json file name\n",
    "        json_file_name = os.path.splitext(json_file)[0]\n",
    "        \n",
    "        # Update the 'imagePath' with .jpg\n",
    "        labelme_data['imagePath'] = f'{json_file_name}.jpg'\n",
    "\n",
    "        # Write the updated json data back to the file\n",
    "        with open(os.path.join(json_dir, json_file), 'w') as f:\n",
    "            json.dump(labelme_data, f, indent=4)"
   ]
  },
  {
   "cell_type": "markdown",
   "id": "a7d7f263-9110-4851-9173-7423e77841ac",
   "metadata": {},
   "source": [
    "### Converting LabelMe to COCO"
   ]
  },
  {
   "cell_type": "code",
   "execution_count": 8,
   "id": "e15455f3-c5f4-496d-84e9-97c8539b3791",
   "metadata": {
    "collapsed": true,
    "jupyter": {
     "outputs_hidden": true
    }
   },
   "outputs": [
    {
     "name": "stdout",
     "output_type": "stream",
     "text": [
      "Requirement already satisfied: labelme2coco in /Users/sarvzz/miniconda3/lib/python3.11/site-packages (0.2.4)\n",
      "Requirement already satisfied: sahi>=0.8.19 in /Users/sarvzz/miniconda3/lib/python3.11/site-packages (from labelme2coco) (0.11.14)\n",
      "Requirement already satisfied: jsonschema>=2.6.0 in /Users/sarvzz/miniconda3/lib/python3.11/site-packages (from labelme2coco) (4.17.3)\n",
      "Requirement already satisfied: attrs>=17.4.0 in /Users/sarvzz/miniconda3/lib/python3.11/site-packages (from jsonschema>=2.6.0->labelme2coco) (21.4.0)\n",
      "Requirement already satisfied: pyrsistent!=0.17.0,!=0.17.1,!=0.17.2,>=0.14.0 in /Users/sarvzz/miniconda3/lib/python3.11/site-packages (from jsonschema>=2.6.0->labelme2coco) (0.19.3)\n",
      "Requirement already satisfied: opencv-python>=4.2.0.32 in /Users/sarvzz/miniconda3/lib/python3.11/site-packages (from sahi>=0.8.19->labelme2coco) (4.8.0.74)\n",
      "Requirement already satisfied: shapely>=1.8.0 in /Users/sarvzz/miniconda3/lib/python3.11/site-packages (from sahi>=0.8.19->labelme2coco) (2.0.1)\n",
      "Requirement already satisfied: tqdm>=4.48.2 in /Users/sarvzz/miniconda3/lib/python3.11/site-packages (from sahi>=0.8.19->labelme2coco) (4.65.0)\n",
      "Requirement already satisfied: pillow>=8.2.0 in /Users/sarvzz/miniconda3/lib/python3.11/site-packages (from sahi>=0.8.19->labelme2coco) (9.4.0)\n",
      "Requirement already satisfied: pybboxes==0.1.6 in /Users/sarvzz/miniconda3/lib/python3.11/site-packages (from sahi>=0.8.19->labelme2coco) (0.1.6)\n",
      "Requirement already satisfied: pyyaml in /Users/sarvzz/miniconda3/lib/python3.11/site-packages (from sahi>=0.8.19->labelme2coco) (6.0)\n",
      "Requirement already satisfied: fire in /Users/sarvzz/miniconda3/lib/python3.11/site-packages (from sahi>=0.8.19->labelme2coco) (0.5.0)\n",
      "Requirement already satisfied: terminaltables in /Users/sarvzz/miniconda3/lib/python3.11/site-packages (from sahi>=0.8.19->labelme2coco) (3.1.10)\n",
      "Requirement already satisfied: requests in /Users/sarvzz/miniconda3/lib/python3.11/site-packages (from sahi>=0.8.19->labelme2coco) (2.29.0)\n",
      "Requirement already satisfied: click in /Users/sarvzz/miniconda3/lib/python3.11/site-packages (from sahi>=0.8.19->labelme2coco) (8.1.6)\n",
      "Requirement already satisfied: numpy in /Users/sarvzz/miniconda3/lib/python3.11/site-packages (from pybboxes==0.1.6->sahi>=0.8.19->labelme2coco) (1.24.2)\n",
      "Requirement already satisfied: six in /Users/sarvzz/miniconda3/lib/python3.11/site-packages (from fire->sahi>=0.8.19->labelme2coco) (1.16.0)\n",
      "Requirement already satisfied: termcolor in /Users/sarvzz/miniconda3/lib/python3.11/site-packages (from fire->sahi>=0.8.19->labelme2coco) (2.3.0)\n",
      "Requirement already satisfied: charset-normalizer<4,>=2 in /Users/sarvzz/miniconda3/lib/python3.11/site-packages (from requests->sahi>=0.8.19->labelme2coco) (2.0.4)\n",
      "Requirement already satisfied: idna<4,>=2.5 in /Users/sarvzz/miniconda3/lib/python3.11/site-packages (from requests->sahi>=0.8.19->labelme2coco) (3.4)\n",
      "Requirement already satisfied: urllib3<1.27,>=1.21.1 in /Users/sarvzz/miniconda3/lib/python3.11/site-packages (from requests->sahi>=0.8.19->labelme2coco) (1.26.16)\n",
      "Requirement already satisfied: certifi>=2017.4.17 in /Users/sarvzz/miniconda3/lib/python3.11/site-packages (from requests->sahi>=0.8.19->labelme2coco) (2023.7.22)\n",
      "Note: you may need to restart the kernel to use updated packages.\n"
     ]
    }
   ],
   "source": [
    "pip install -U labelme2coco"
   ]
  },
  {
   "cell_type": "code",
   "execution_count": 9,
   "id": "62ef2874-72ec-49a7-baab-49a74aa59206",
   "metadata": {},
   "outputs": [
    {
     "name": "stderr",
     "output_type": "stream",
     "text": [
      "/Users/sarvzz/miniconda3/lib/python3.11/site-packages/tqdm/auto.py:21: TqdmWarning: IProgress not found. Please update jupyter and ipywidgets. See https://ipywidgets.readthedocs.io/en/stable/user_install.html\n",
      "  from .autonotebook import tqdm as notebook_tqdm\n"
     ]
    }
   ],
   "source": [
    "import labelme2coco"
   ]
  },
  {
   "cell_type": "code",
   "execution_count": 10,
   "id": "ed56880f-cae7-40fe-bc22-8dd33b37756f",
   "metadata": {},
   "outputs": [
    {
     "name": "stdout",
     "output_type": "stream",
     "text": [
      "There are 46 listed files in folder labels.\n"
     ]
    },
    {
     "name": "stderr",
     "output_type": "stream",
     "text": [
      "Converting labelme annotations to COCO format: 100%|█| 46/46 [00:00<00:00, 2511.\n",
      "02/26/2024 19:31:46 - INFO - labelme2coco -   Converted annotations in COCO format is exported to labels/coco_annotation/dataset.json\n"
     ]
    }
   ],
   "source": [
    "# input folder \n",
    "labelme_folder = 'labels'\n",
    "\n",
    "# output folder\n",
    "export_dir = 'labels/coco_annotation'\n",
    "\n",
    "# convert labelme annotations to coco\n",
    "labelme2coco.convert(labelme_folder, export_dir)"
   ]
  },
  {
   "cell_type": "code",
   "execution_count": null,
   "id": "741401ac-9ac4-4a0a-9458-710a354bb655",
   "metadata": {},
   "outputs": [],
   "source": []
  }
 ],
 "metadata": {
  "kernelspec": {
   "display_name": "Python 3 (ipykernel)",
   "language": "python",
   "name": "python3"
  },
  "language_info": {
   "codemirror_mode": {
    "name": "ipython",
    "version": 3
   },
   "file_extension": ".py",
   "mimetype": "text/x-python",
   "name": "python",
   "nbconvert_exporter": "python",
   "pygments_lexer": "ipython3",
   "version": "3.11.4"
  }
 },
 "nbformat": 4,
 "nbformat_minor": 5
}
