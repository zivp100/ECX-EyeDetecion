{
 "cells": [
  {
   "cell_type": "code",
   "execution_count": 7,
   "id": "1fbc5532-9668-4ebc-b8aa-a139c1e31e05",
   "metadata": {},
   "outputs": [],
   "source": [
    "import cv2\n",
    "import numpy as np\n",
    "import os"
   ]
  },
  {
   "cell_type": "code",
   "execution_count": 2,
   "id": "8b6921e1-0675-4a45-94f7-23016327f595",
   "metadata": {},
   "outputs": [
    {
     "name": "stdout",
     "output_type": "stream",
     "text": [
      "/Users/sarvzz/Desktop/Projects\n"
     ]
    }
   ],
   "source": [
    "!pwd"
   ]
  },
  {
   "cell_type": "code",
   "execution_count": 4,
   "id": "1670840f-cdfc-4887-b59e-a87147e96595",
   "metadata": {},
   "outputs": [
    {
     "name": "stdout",
     "output_type": "stream",
     "text": [
      "/Users/sarvzz/Desktop\n"
     ]
    }
   ],
   "source": [
    "cd .."
   ]
  },
  {
   "cell_type": "markdown",
   "id": "5bcb4239-a18e-417f-b93f-1ba05c2225d0",
   "metadata": {},
   "source": [
    "### 1. Apply Dilation, Erosion, Opening & Closing"
   ]
  },
  {
   "cell_type": "code",
   "execution_count": 6,
   "id": "62291c97-017e-4048-b3ca-8b969f11efec",
   "metadata": {},
   "outputs": [
    {
     "data": {
      "text/plain": [
       "-1"
      ]
     },
     "execution_count": 6,
     "metadata": {},
     "output_type": "execute_result"
    }
   ],
   "source": [
    "# Read the image\n",
    "img = cv2.imread('image-7.jpg', 0)\n",
    "ret, th = cv2.threshold(img, 0, 255, cv2.THRESH_BINARY+cv2.THRESH_OTSU)\n",
    "\n",
    "kernel = np.ones((3,3), np.uint8)\n",
    "# erosion = cv2.erode(th, kernel, iterations=1)\n",
    "dilation = cv2.dilate(th, kernel, iterations=1)\n",
    "\n",
    "opening = cv2.morphologyEx(th, cv2.MORPH_OPEN, kernel)\n",
    "\n",
    "# Display the image\n",
    "cv2.imshow('testing', img)\n",
    "cv2.imshow('OTSU Image', th)\n",
    "# cv2.imshow('Eroded Image', erosion)\n",
    "cv2.imshow('Dilated Image', dilation)\n",
    "cv2.imshow('Opened Image', opening)\n",
    "\n",
    "# WaitKey and Close all OpenCV windows\n",
    "cv2.waitKey(0)\n",
    "cv2.destroyAllWindows()\n",
    "cv2.waitKey(1)"
   ]
  },
  {
   "cell_type": "markdown",
   "id": "5acd91fb-830b-45de-90e9-3b859080dba6",
   "metadata": {},
   "source": [
    "### 2. Applying Morphological Opening"
   ]
  },
  {
   "cell_type": "code",
   "execution_count": 43,
   "id": "46ed7d6e-7cbb-4acf-9ccf-f3b9c64cd833",
   "metadata": {},
   "outputs": [
    {
     "data": {
      "text/plain": [
       "-1"
      ]
     },
     "execution_count": 43,
     "metadata": {},
     "output_type": "execute_result"
    }
   ],
   "source": [
    "import cv2\n",
    "import numpy as np\n",
    "\n",
    "# Read the image\n",
    "img = cv2.imread('image-7.jpg',0)\n",
    "\n",
    "# Apply Otsu's thresholding to the grayscale image\n",
    "ret, th = cv2.threshold(img, 0, 255, cv2.THRESH_BINARY + cv2.THRESH_OTSU)\n",
    "\n",
    "# Create a disk structuring element with radius 5 pixels\n",
    "kernel_radius = 5\n",
    "kernel_size = 2 * kernel_radius + 1  # Diameter of the disk\n",
    "kernel = cv2.getStructuringElement(cv2.MORPH_ELLIPSE, (kernel_size, kernel_size))\n",
    "\n",
    "# Perform morphological opening\n",
    "opening = cv2.morphologyEx(th, cv2.MORPH_OPEN, kernel)\n",
    "\n",
    "# Display the images\n",
    "cv2.imshow('Original Image', img)\n",
    "cv2.imshow('OTSU Image', th)\n",
    "# cv2.imshow('Opened Image', opening)\n",
    "\n",
    "# WaitKey and Close all OpenCV windows\n",
    "cv2.waitKey(0)\n",
    "cv2.destroyAllWindows()\n",
    "cv2.waitKey(1)\n"
   ]
  },
  {
   "cell_type": "markdown",
   "id": "c1dd4eeb-909e-47a9-812e-e36d2aa92030",
   "metadata": {},
   "source": [
    "### 3. Apply LoG"
   ]
  },
  {
   "cell_type": "code",
   "execution_count": 40,
   "id": "7b3937cd-2dbf-4a78-b98c-00aa22e3c132",
   "metadata": {},
   "outputs": [
    {
     "data": {
      "text/plain": [
       "-1"
      ]
     },
     "execution_count": 40,
     "metadata": {},
     "output_type": "execute_result"
    }
   ],
   "source": [
    "# Read the image\n",
    "img = cv2.imread('image-8.jpg',0)\n",
    "\n",
    "# Apply LoG Operator\n",
    "G_Blur = cv2.GaussianBlur(img, (11,11),0)   # Can Also apply Morph filter (th) instead of img. \n",
    "Laplacian_img = cv2.Laplacian(img, cv2.CV_64F, ksize=5)\n",
    "LoG_img = cv2.Laplacian(G_Blur, cv2.CV_64F, ksize=5)\n",
    "\n",
    "# Show Image\n",
    "cv2.imshow('LoG Image', LoG_img)\n",
    "\n",
    "# WaitKey and Close all OpenCV windows\n",
    "cv2.waitKey(0)\n",
    "cv2.destroyAllWindows()\n",
    "cv2.waitKey(1)"
   ]
  },
  {
   "cell_type": "markdown",
   "id": "00b66f9a-7115-4a2d-add6-f0e5d99af21d",
   "metadata": {},
   "source": [
    "### 4. Apply Canny"
   ]
  },
  {
   "cell_type": "code",
   "execution_count": 18,
   "id": "9c53b49e-72e9-4bd9-91b4-545982550269",
   "metadata": {},
   "outputs": [
    {
     "data": {
      "text/plain": [
       "-1"
      ]
     },
     "execution_count": 18,
     "metadata": {},
     "output_type": "execute_result"
    }
   ],
   "source": [
    "# Read the image\n",
    "img = cv2.imread('image-8.jpg',0)\n",
    "\n",
    "\n",
    "# Apply Canny \n",
    "canny_img = cv2.Canny(img, 100,200)\n",
    "\n",
    "# Show Image\n",
    "cv2.imshow('Canny Image', canny_img)\n",
    "\n",
    "# WaitKey and Close all OpenCV windows\n",
    "cv2.waitKey(0)\n",
    "cv2.destroyAllWindows()\n",
    "cv2.waitKey(1)"
   ]
  },
  {
   "cell_type": "markdown",
   "id": "a76cf7a8-ce63-40ef-b257-8f96df85a857",
   "metadata": {},
   "source": [
    "### 5. Tri-Level Image Thresholding"
   ]
  },
  {
   "cell_type": "markdown",
   "id": "21c3d030-8f71-4009-989b-d481c5c8cc6e",
   "metadata": {},
   "source": [
    "#### 5.1 - Reading one image"
   ]
  },
  {
   "cell_type": "code",
   "execution_count": 15,
   "id": "52e91755-ce0c-43af-874d-d872e06613cc",
   "metadata": {},
   "outputs": [],
   "source": [
    "import cv2\n",
    "import numpy as np\n",
    "\n",
    "# Read the image\n",
    "img = cv2.imread('image-6-sample.jpg', 0)\n",
    "\n",
    "# Check if the image is properly read\n",
    "if img is None:\n",
    "    print(\"Error: Unable to read the image.\")\n",
    "else:\n",
    "    # Define thresholds\n",
    "    T1 = 50 #51\n",
    "    T2 = 200 #128\n",
    "\n",
    "    # Apply thresholding\n",
    "    th = np.zeros_like(img, dtype=np.float32)\n",
    "    th[img < T1] = 0\n",
    "    th[(img >= T1) & (img < T2)] = 1\n",
    "    th[img >= T2] = 5\n",
    "\n",
    "    # Convert to uint8 for display\n",
    "    th_display = np.uint8(th * 255)\n",
    "\n",
    "    # Display the original and thresholded images\n",
    "    cv2.imshow('Original Image', img)\n",
    "    cv2.imshow('Thresholded Image', th_display)\n",
    "\n",
    "    # WaitKey and Close all OpenCV windows\n",
    "    cv2.waitKey(0)\n",
    "    cv2.destroyAllWindows()\n",
    "    cv2.waitKey(1)"
   ]
  },
  {
   "cell_type": "markdown",
   "id": "f33096e5-cc49-45da-b115-274fa8e2eac9",
   "metadata": {},
   "source": [
    "#### 5.2 - Reading a folder"
   ]
  },
  {
   "cell_type": "code",
   "execution_count": 8,
   "id": "181bdb17-d997-47ef-bde4-bae18316501a",
   "metadata": {},
   "outputs": [
    {
     "name": "stdout",
     "output_type": "stream",
     "text": [
      "/Users/sarvzz/Desktop/tri-pupil\n"
     ]
    }
   ],
   "source": [
    "cd tri-pupil/"
   ]
  },
  {
   "cell_type": "code",
   "execution_count": 9,
   "id": "cc62282f-aa95-4231-b8b2-d161d4b347ec",
   "metadata": {},
   "outputs": [
    {
     "name": "stdout",
     "output_type": "stream",
     "text": [
      "Thresholded image saved as thresholded_IMG-20240115-WA0048.jpg.\n",
      "Thresholded image saved as thresholded_IMG-20240115-WA0002-1.jpg.\n",
      "Thresholded image saved as thresholded_IMG-20240118-WA0021-1.jpg.\n",
      "Thresholded image saved as thresholded_20240115_165404.jpg.\n",
      "Thresholded image saved as thresholded_20240213_105457.jpg.\n",
      "Thresholded image saved as thresholded_20240212_182811.jpg.\n",
      "Thresholded image saved as thresholded_IMG-20240115-WA0027-1.jpg.\n",
      "Thresholded image saved as thresholded_20240212_182811-1.jpg.\n",
      "Thresholded image saved as thresholded_IMG-20240118-WA0022-1.jpg.\n",
      "Thresholded image saved as thresholded_IMG-20240115-WA0018-1.jpg.\n",
      "Thresholded image saved as thresholded_IMG-20240115-WA0002.jpg.\n",
      "Thresholded image saved as thresholded_20240213_105457-1.jpg.\n",
      "Thresholded image saved as thresholded_IMG-20240118-WA0011.jpg.\n",
      "Thresholded image saved as thresholded_IMG-20240115-WA0012.jpg.\n",
      "Thresholded image saved as thresholded_20240115_171812-1.jpg.\n",
      "Thresholded image saved as thresholded_IMG-20240115-WA0007.jpg.\n",
      "Thresholded image saved as thresholded_20240208_225235-1.jpg.\n",
      "Thresholded image saved as thresholded_IMG-20240118-WA0024-1.jpg.\n",
      "Thresholded image saved as thresholded_20240115_165732-1.jpg.\n",
      "Thresholded image saved as thresholded_IMG-20240115-WA0007-1.jpg.\n",
      "Thresholded image saved as thresholded_20240208_225300.jpg.\n",
      "Thresholded image saved as thresholded_20240211_170814.jpg.\n",
      "Thresholded image saved as thresholded_IMG-20240118-WA0013.jpg.\n",
      "Thresholded image saved as thresholded_IMG-20240115-WA0012-1.jpg.\n",
      "Thresholded image saved as thresholded_IMG-20240118-WA0022.jpg.\n",
      "Thresholded image saved as thresholded_20240115_173618-1.jpg.\n",
      "Thresholded image saved as thresholded_IMG-20240115-WA0034.jpg.\n",
      "Thresholded image saved as thresholded_IMG-20240115-WA0034-1.jpg.\n",
      "Thresholded image saved as thresholded_IMG-20240118-WA0021.jpg.\n",
      "Thresholded image saved as thresholded_20240115_173618.jpg.\n",
      "Thresholded image saved as thresholded_IMG-20240115-WA0037.jpg.\n",
      "Thresholded image saved as thresholded_20240208_225300-1.jpg.\n",
      "Thresholded image saved as thresholded_20240115_171812.jpg.\n",
      "Thresholded image saved as thresholded_IMG-20240118-WA0024.jpg.\n",
      "Thresholded image saved as thresholded_IMG-20240115-WA0027.jpg.\n",
      "Thresholded image saved as thresholded_20240208_225320-1.jpg.\n",
      "Thresholded image saved as thresholded_IMG-20240118-WA0013-1.jpg.\n",
      "Thresholded image saved as thresholded_20240115_165404-1.jpg.\n",
      "Thresholded image saved as thresholded_IMG-20240115-WA0048-1.jpg.\n",
      "Thresholded image saved as thresholded_IMG-20240118-WA0011-1.jpg.\n",
      "Thresholded image saved as thresholded_IMG-20240115-WA0018.jpg.\n",
      "Thresholded image saved as thresholded_20240208_225320.jpg.\n",
      "Thresholded image saved as thresholded_20240115_165732.jpg.\n",
      "Thresholded image saved as thresholded_20240211_170814-1.jpg.\n",
      "Thresholded image saved as thresholded_IMG-20240115-WA0037-1.jpg.\n",
      "Thresholded image saved as thresholded_20240208_225235.jpg.\n",
      "processing complete\n"
     ]
    }
   ],
   "source": [
    "# Get the current directory\n",
    "current_directory = os.getcwd()\n",
    "\n",
    "# Get all image filenames in the current directory\n",
    "image_files = [file for file in os.listdir(current_directory) if file.endswith(('.jpg','.jpeg','.png'))]\n",
    "\n",
    "# Define thresholds\n",
    "T1 = 50 \n",
    "T2 = 200\n",
    "\n",
    "# Iterate over each image file\n",
    "for image_file in image_files:\n",
    "\n",
    "    # Read the image\n",
    "    img = cv2.imread(image_file, 0)\n",
    "    \n",
    "    # Check if the image is properly read\n",
    "    if img is None: \n",
    "        print(f'Error: Unable to read the image {image_file}.')\n",
    "    else: \n",
    "        # Apply thresholding\n",
    "        th = np.zeros_like(img, dtype=np.float32)\n",
    "        th[img < T1] = 0\n",
    "        th[(img >= T1) & (img < T2)] = 1\n",
    "        th[img >= T2] = 5\n",
    "        \n",
    "        # Convert to uint8 for display\n",
    "        th_display = np.uint8(th*255)\n",
    "        \n",
    "        # Save the thresholded image with a new filename\n",
    "        output_filename = f'thresholded_{image_file}'\n",
    "        cv2.imwrite(output_filename, th_display)\n",
    "\n",
    "        print(f'Thresholded image saved as {output_filename}.')\n",
    "\n",
    "print('processing complete')"
   ]
  },
  {
   "cell_type": "markdown",
   "id": "b66215ad-dadc-42ea-94f5-954fcefca21b",
   "metadata": {},
   "source": [
    "### 6. Tri-Level Image Thresholding with OTSU"
   ]
  },
  {
   "cell_type": "code",
   "execution_count": 69,
   "id": "2fd02219-3e2f-4fdb-b88f-dcb8c2d94020",
   "metadata": {},
   "outputs": [
    {
     "data": {
      "text/plain": [
       "-1"
      ]
     },
     "execution_count": 69,
     "metadata": {},
     "output_type": "execute_result"
    }
   ],
   "source": [
    "import cv2\n",
    "import numpy as np\n",
    "\n",
    "# Read the image\n",
    "img = cv2.imread('image-1.jpg', 0)\n",
    "\n",
    "# Apply thresholding\n",
    "ret, th = cv2.threshold(img, 0, 255, cv2.THRESH_BINARY + cv2.THRESH_OTSU)\n",
    "\n",
    "# Apply custom thresholds\n",
    "th[img < 80] = 0\n",
    "th[(img >= 80) & (img < 160)] = 150\n",
    "th[img >= 160] = 255\n",
    "\n",
    "# Display the original and thresholded images\n",
    "cv2.imshow('Original Image', img)\n",
    "cv2.imshow('Thresholded Image', th)\n",
    "\n",
    "# WaitKey and Close all OpenCV windows\n",
    "cv2.waitKey(0)\n",
    "cv2.destroyAllWindows()\n",
    "cv2.waitKey(1)"
   ]
  },
  {
   "cell_type": "code",
   "execution_count": null,
   "id": "1d9f6a47-9422-477d-87d6-33f4be73df11",
   "metadata": {},
   "outputs": [],
   "source": []
  }
 ],
 "metadata": {
  "kernelspec": {
   "display_name": "Python 3 (ipykernel)",
   "language": "python",
   "name": "python3"
  },
  "language_info": {
   "codemirror_mode": {
    "name": "ipython",
    "version": 3
   },
   "file_extension": ".py",
   "mimetype": "text/x-python",
   "name": "python",
   "nbconvert_exporter": "python",
   "pygments_lexer": "ipython3",
   "version": "3.11.4"
  }
 },
 "nbformat": 4,
 "nbformat_minor": 5
}
