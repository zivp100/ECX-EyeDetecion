{
 "cells": [
  {
   "cell_type": "code",
   "execution_count": 5,
   "id": "c68c98b4-23ee-43b5-8ba3-790e1042689c",
   "metadata": {},
   "outputs": [],
   "source": [
    "import cv2\n",
    "import os\n",
    "import glob"
   ]
  },
  {
   "cell_type": "code",
   "execution_count": 6,
   "id": "77d66fc4-ebc6-4511-9b34-56665a5bb86b",
   "metadata": {},
   "outputs": [
    {
     "name": "stdout",
     "output_type": "stream",
     "text": [
      "Split 105 frames from the videos into images/\n"
     ]
    }
   ],
   "source": [
    "import cv2\n",
    "import os\n",
    "import glob\n",
    "\n",
    "# Specify video directory\n",
    "video_directory = 'videos/'\n",
    "\n",
    "# Find all .mp4 files in the directory\n",
    "video_files = glob.glob(os.path.join(video_directory, '*.mp4'))\n",
    "\n",
    "# Create a directory to save the images\n",
    "output_directory = 'images/'\n",
    "os.makedirs(output_directory, exist_ok=True)\n",
    "\n",
    "# Initialize variables\n",
    "frame_count = 0\n",
    "\n",
    "# Iterate through each video file\n",
    "for video_file in video_files:\n",
    "    # Open the video file\n",
    "    video_capture = cv2.VideoCapture(video_file)\n",
    "\n",
    "    # Check if the video file was opened successfully\n",
    "    if not video_capture.isOpened():\n",
    "        print(f'Could not open video file: {video_file}')\n",
    "        continue\n",
    "\n",
    "    # Read and save frames from the video\n",
    "    while True:\n",
    "        ret, frame = video_capture.read()\n",
    "\n",
    "        if not ret:\n",
    "            break  # Break the loop when we have reached the end of the video\n",
    "\n",
    "        # Save every other frame as an image\n",
    "        if frame_count % 2 == 0:\n",
    "            image_filename = os.path.join(output_directory, f'frame_{frame_count:04d}.jpg')\n",
    "            cv2.imwrite(image_filename, frame)\n",
    "\n",
    "        frame_count += 1\n",
    "\n",
    "    # Release the video capture object\n",
    "    video_capture.release()\n",
    "\n",
    "cv2.destroyAllWindows()\n",
    "\n",
    "print(f\"Split {frame_count} frames from the videos into {output_directory}\")\n"
   ]
  },
  {
   "cell_type": "code",
   "execution_count": null,
   "id": "0e63d14e-e0df-4174-ad97-2130daa19a42",
   "metadata": {},
   "outputs": [],
   "source": []
  }
 ],
 "metadata": {
  "kernelspec": {
   "display_name": "Python 3 (ipykernel)",
   "language": "python",
   "name": "python3"
  },
  "language_info": {
   "codemirror_mode": {
    "name": "ipython",
    "version": 3
   },
   "file_extension": ".py",
   "mimetype": "text/x-python",
   "name": "python",
   "nbconvert_exporter": "python",
   "pygments_lexer": "ipython3",
   "version": "3.11.4"
  }
 },
 "nbformat": 4,
 "nbformat_minor": 5
}
